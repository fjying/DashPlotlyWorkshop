{
 "cells": [
  {
   "cell_type": "code",
   "execution_count": 9,
   "id": "4271127a",
   "metadata": {},
   "outputs": [
    {
     "data": {
      "text/html": [
       "        <script type=\"text/javascript\">\n",
       "        window.PlotlyConfig = {MathJaxConfig: 'local'};\n",
       "        if (window.MathJax && window.MathJax.Hub && window.MathJax.Hub.Config) {window.MathJax.Hub.Config({SVG: {font: \"STIX-Web\"}});}\n",
       "        if (typeof require !== 'undefined') {\n",
       "        require.undef(\"plotly\");\n",
       "        requirejs.config({\n",
       "            paths: {\n",
       "                'plotly': ['https://cdn.plot.ly/plotly-2.16.1.min']\n",
       "            }\n",
       "        });\n",
       "        require(['plotly'], function(Plotly) {\n",
       "            window._Plotly = Plotly;\n",
       "        });\n",
       "        }\n",
       "        </script>\n",
       "        "
      ]
     },
     "metadata": {},
     "output_type": "display_data"
    }
   ],
   "source": [
    "import os\n",
    "import plotly.express as px\n",
    "import plotly.io as pio\n",
    "import plotly.offline as pyo\n",
    "\n",
    "import pandas as pd\n",
    "from datetime import date, timedelta, datetime\n",
    "\n",
    "import warnings\n",
    "warnings.simplefilter(action='ignore', category=FutureWarning)\n",
    "\n",
    "pio.renderers.default='notebook'\n",
    "pyo.init_notebook_mode(connected=True)\n"
   ]
  },
  {
   "cell_type": "code",
   "execution_count": 2,
   "id": "f14619d8",
   "metadata": {},
   "outputs": [],
   "source": [
    "# Set Workshop folder path\n",
    "workshop_folder = '/Users/jf3375/PycharmProjects/DashPlotlyWorkshop/dashplotlyworkshop'\n",
    "os.chdir(workshop_folder)"
   ]
  },
  {
   "cell_type": "markdown",
   "id": "59ca5d0d",
   "metadata": {},
   "source": [
    "## Import and process data"
   ]
  },
  {
   "cell_type": "code",
   "execution_count": 3,
   "id": "b2825952",
   "metadata": {},
   "outputs": [],
   "source": [
    "def process_date_column(df, date_column='index'):\n",
    "    df[date_column] = df[date_column].apply(\n",
    "        lambda x: datetime.strptime(x[:13], \"%Y-%m-%d %H\"))\n",
    "    df = df.rename(columns={'index': 'time'})\n",
    "    return df"
   ]
  },
  {
   "cell_type": "code",
   "execution_count": 4,
   "id": "ec7888b6",
   "metadata": {},
   "outputs": [],
   "source": [
    "type_allocs_rts = process_date_column(pd.read_csv('data/daily_type-allocs_rts_type_allocs.csv'))"
   ]
  },
  {
   "cell_type": "markdown",
   "id": "809fedd0",
   "metadata": {},
   "source": [
    "#### Panel Data where we have risk index by time and asset type\n",
    "#### Time is hourly data\n",
    "#### Three Asset Types: Rooftop Solar, Wind, and Solar\n",
    "#### Each cell is risk index at specific hour of specific asset type\n",
    "#### The risk index is measured in dollar"
   ]
  },
  {
   "cell_type": "code",
   "execution_count": 5,
   "id": "4b7b9908",
   "metadata": {},
   "outputs": [
    {
     "data": {
      "text/html": [
       "<div>\n",
       "<style scoped>\n",
       "    .dataframe tbody tr th:only-of-type {\n",
       "        vertical-align: middle;\n",
       "    }\n",
       "\n",
       "    .dataframe tbody tr th {\n",
       "        vertical-align: top;\n",
       "    }\n",
       "\n",
       "    .dataframe thead th {\n",
       "        text-align: right;\n",
       "    }\n",
       "</style>\n",
       "<table border=\"1\" class=\"dataframe\">\n",
       "  <thead>\n",
       "    <tr style=\"text-align: right;\">\n",
       "      <th></th>\n",
       "      <th>time</th>\n",
       "      <th>RTPV</th>\n",
       "      <th>WIND</th>\n",
       "      <th>PV</th>\n",
       "    </tr>\n",
       "  </thead>\n",
       "  <tbody>\n",
       "    <tr>\n",
       "      <th>0</th>\n",
       "      <td>2020-01-01 00:00:00</td>\n",
       "      <td>0.000000</td>\n",
       "      <td>1.502821e+04</td>\n",
       "      <td>0.000000e+00</td>\n",
       "    </tr>\n",
       "    <tr>\n",
       "      <th>1</th>\n",
       "      <td>2020-01-01 01:00:00</td>\n",
       "      <td>0.000000</td>\n",
       "      <td>7.658850e+03</td>\n",
       "      <td>0.000000e+00</td>\n",
       "    </tr>\n",
       "    <tr>\n",
       "      <th>2</th>\n",
       "      <td>2020-01-01 02:00:00</td>\n",
       "      <td>0.000000</td>\n",
       "      <td>1.100450e+04</td>\n",
       "      <td>0.000000e+00</td>\n",
       "    </tr>\n",
       "    <tr>\n",
       "      <th>3</th>\n",
       "      <td>2020-01-01 03:00:00</td>\n",
       "      <td>0.000000</td>\n",
       "      <td>1.151626e+04</td>\n",
       "      <td>0.000000e+00</td>\n",
       "    </tr>\n",
       "    <tr>\n",
       "      <th>4</th>\n",
       "      <td>2020-01-01 04:00:00</td>\n",
       "      <td>0.000000</td>\n",
       "      <td>1.014924e+05</td>\n",
       "      <td>0.000000e+00</td>\n",
       "    </tr>\n",
       "    <tr>\n",
       "      <th>5</th>\n",
       "      <td>2020-01-01 05:00:00</td>\n",
       "      <td>-62.241300</td>\n",
       "      <td>2.448405e+06</td>\n",
       "      <td>-6.224130e+01</td>\n",
       "    </tr>\n",
       "    <tr>\n",
       "      <th>6</th>\n",
       "      <td>2020-01-01 06:00:00</td>\n",
       "      <td>31.749333</td>\n",
       "      <td>9.497129e+06</td>\n",
       "      <td>3.174933e+01</td>\n",
       "    </tr>\n",
       "    <tr>\n",
       "      <th>7</th>\n",
       "      <td>2020-01-01 07:00:00</td>\n",
       "      <td>454526.051556</td>\n",
       "      <td>2.715472e+06</td>\n",
       "      <td>1.780481e+06</td>\n",
       "    </tr>\n",
       "    <tr>\n",
       "      <th>8</th>\n",
       "      <td>2020-01-01 08:00:00</td>\n",
       "      <td>146976.904477</td>\n",
       "      <td>1.936295e+05</td>\n",
       "      <td>1.800878e+05</td>\n",
       "    </tr>\n",
       "    <tr>\n",
       "      <th>9</th>\n",
       "      <td>2020-01-01 09:00:00</td>\n",
       "      <td>7131.890204</td>\n",
       "      <td>1.424047e+04</td>\n",
       "      <td>7.265167e+03</td>\n",
       "    </tr>\n",
       "    <tr>\n",
       "      <th>10</th>\n",
       "      <td>2020-01-01 10:00:00</td>\n",
       "      <td>6115.114592</td>\n",
       "      <td>6.039923e+03</td>\n",
       "      <td>5.727540e+03</td>\n",
       "    </tr>\n",
       "    <tr>\n",
       "      <th>11</th>\n",
       "      <td>2020-01-01 11:00:00</td>\n",
       "      <td>10386.792664</td>\n",
       "      <td>5.487177e+03</td>\n",
       "      <td>9.917994e+03</td>\n",
       "    </tr>\n",
       "    <tr>\n",
       "      <th>12</th>\n",
       "      <td>2020-01-01 12:00:00</td>\n",
       "      <td>7018.719617</td>\n",
       "      <td>1.317212e+03</td>\n",
       "      <td>6.957379e+03</td>\n",
       "    </tr>\n",
       "    <tr>\n",
       "      <th>13</th>\n",
       "      <td>2020-01-01 13:00:00</td>\n",
       "      <td>58846.365187</td>\n",
       "      <td>1.570146e+04</td>\n",
       "      <td>5.904158e+04</td>\n",
       "    </tr>\n",
       "    <tr>\n",
       "      <th>14</th>\n",
       "      <td>2020-01-01 14:00:00</td>\n",
       "      <td>5411.419382</td>\n",
       "      <td>-9.099172e+02</td>\n",
       "      <td>9.746234e+03</td>\n",
       "    </tr>\n",
       "    <tr>\n",
       "      <th>15</th>\n",
       "      <td>2020-01-01 15:00:00</td>\n",
       "      <td>4247.645665</td>\n",
       "      <td>8.656017e+02</td>\n",
       "      <td>9.676618e+03</td>\n",
       "    </tr>\n",
       "    <tr>\n",
       "      <th>16</th>\n",
       "      <td>2020-01-01 16:00:00</td>\n",
       "      <td>-75.785205</td>\n",
       "      <td>2.443424e+03</td>\n",
       "      <td>-1.695662e+03</td>\n",
       "    </tr>\n",
       "    <tr>\n",
       "      <th>17</th>\n",
       "      <td>2020-01-01 17:00:00</td>\n",
       "      <td>110.367867</td>\n",
       "      <td>2.460526e+06</td>\n",
       "      <td>1.103679e+02</td>\n",
       "    </tr>\n",
       "    <tr>\n",
       "      <th>18</th>\n",
       "      <td>2020-01-01 18:00:00</td>\n",
       "      <td>-294.392167</td>\n",
       "      <td>2.435185e+06</td>\n",
       "      <td>-2.943922e+02</td>\n",
       "    </tr>\n",
       "    <tr>\n",
       "      <th>19</th>\n",
       "      <td>2020-01-01 19:00:00</td>\n",
       "      <td>-19.788133</td>\n",
       "      <td>2.221787e+06</td>\n",
       "      <td>-1.978813e+01</td>\n",
       "    </tr>\n",
       "    <tr>\n",
       "      <th>20</th>\n",
       "      <td>2020-01-01 20:00:00</td>\n",
       "      <td>17.197567</td>\n",
       "      <td>6.716939e+05</td>\n",
       "      <td>1.719757e+01</td>\n",
       "    </tr>\n",
       "    <tr>\n",
       "      <th>21</th>\n",
       "      <td>2020-01-01 21:00:00</td>\n",
       "      <td>-40.910767</td>\n",
       "      <td>2.470436e+04</td>\n",
       "      <td>-4.091077e+01</td>\n",
       "    </tr>\n",
       "    <tr>\n",
       "      <th>22</th>\n",
       "      <td>2020-01-01 22:00:00</td>\n",
       "      <td>38.646667</td>\n",
       "      <td>2.647330e+06</td>\n",
       "      <td>3.864667e+01</td>\n",
       "    </tr>\n",
       "    <tr>\n",
       "      <th>23</th>\n",
       "      <td>2020-01-01 23:00:00</td>\n",
       "      <td>-372.471567</td>\n",
       "      <td>2.394274e+06</td>\n",
       "      <td>-3.724716e+02</td>\n",
       "    </tr>\n",
       "  </tbody>\n",
       "</table>\n",
       "</div>"
      ],
      "text/plain": [
       "                  time           RTPV          WIND            PV\n",
       "0  2020-01-01 00:00:00       0.000000  1.502821e+04  0.000000e+00\n",
       "1  2020-01-01 01:00:00       0.000000  7.658850e+03  0.000000e+00\n",
       "2  2020-01-01 02:00:00       0.000000  1.100450e+04  0.000000e+00\n",
       "3  2020-01-01 03:00:00       0.000000  1.151626e+04  0.000000e+00\n",
       "4  2020-01-01 04:00:00       0.000000  1.014924e+05  0.000000e+00\n",
       "5  2020-01-01 05:00:00     -62.241300  2.448405e+06 -6.224130e+01\n",
       "6  2020-01-01 06:00:00      31.749333  9.497129e+06  3.174933e+01\n",
       "7  2020-01-01 07:00:00  454526.051556  2.715472e+06  1.780481e+06\n",
       "8  2020-01-01 08:00:00  146976.904477  1.936295e+05  1.800878e+05\n",
       "9  2020-01-01 09:00:00    7131.890204  1.424047e+04  7.265167e+03\n",
       "10 2020-01-01 10:00:00    6115.114592  6.039923e+03  5.727540e+03\n",
       "11 2020-01-01 11:00:00   10386.792664  5.487177e+03  9.917994e+03\n",
       "12 2020-01-01 12:00:00    7018.719617  1.317212e+03  6.957379e+03\n",
       "13 2020-01-01 13:00:00   58846.365187  1.570146e+04  5.904158e+04\n",
       "14 2020-01-01 14:00:00    5411.419382 -9.099172e+02  9.746234e+03\n",
       "15 2020-01-01 15:00:00    4247.645665  8.656017e+02  9.676618e+03\n",
       "16 2020-01-01 16:00:00     -75.785205  2.443424e+03 -1.695662e+03\n",
       "17 2020-01-01 17:00:00     110.367867  2.460526e+06  1.103679e+02\n",
       "18 2020-01-01 18:00:00    -294.392167  2.435185e+06 -2.943922e+02\n",
       "19 2020-01-01 19:00:00     -19.788133  2.221787e+06 -1.978813e+01\n",
       "20 2020-01-01 20:00:00      17.197567  6.716939e+05  1.719757e+01\n",
       "21 2020-01-01 21:00:00     -40.910767  2.470436e+04 -4.091077e+01\n",
       "22 2020-01-01 22:00:00      38.646667  2.647330e+06  3.864667e+01\n",
       "23 2020-01-01 23:00:00    -372.471567  2.394274e+06 -3.724716e+02"
      ]
     },
     "execution_count": 5,
     "metadata": {},
     "output_type": "execute_result"
    }
   ],
   "source": [
    "type_allocs_rts.head(24)"
   ]
  },
  {
   "cell_type": "markdown",
   "id": "f110128a",
   "metadata": {},
   "source": [
    "## Interactive Plot hourly timeseries of particular day of three asset types"
   ]
  },
  {
   "cell_type": "markdown",
   "id": "cb9fb74b",
   "metadata": {},
   "source": [
    "### Select hourly allocation index of particular day"
   ]
  },
  {
   "cell_type": "code",
   "execution_count": 6,
   "id": "c3be834e",
   "metadata": {},
   "outputs": [
    {
     "data": {
      "text/html": [
       "<div>\n",
       "<style scoped>\n",
       "    .dataframe tbody tr th:only-of-type {\n",
       "        vertical-align: middle;\n",
       "    }\n",
       "\n",
       "    .dataframe tbody tr th {\n",
       "        vertical-align: top;\n",
       "    }\n",
       "\n",
       "    .dataframe thead th {\n",
       "        text-align: right;\n",
       "    }\n",
       "</style>\n",
       "<table border=\"1\" class=\"dataframe\">\n",
       "  <thead>\n",
       "    <tr style=\"text-align: right;\">\n",
       "      <th></th>\n",
       "      <th>time</th>\n",
       "      <th>RTPV</th>\n",
       "      <th>WIND</th>\n",
       "      <th>PV</th>\n",
       "    </tr>\n",
       "  </thead>\n",
       "  <tbody>\n",
       "    <tr>\n",
       "      <th>7776</th>\n",
       "      <td>2020-12-24 00:00:00</td>\n",
       "      <td>47.210367</td>\n",
       "      <td>2.647480e+06</td>\n",
       "      <td>4.721037e+01</td>\n",
       "    </tr>\n",
       "    <tr>\n",
       "      <th>7777</th>\n",
       "      <td>2020-12-24 01:00:00</td>\n",
       "      <td>-37.120600</td>\n",
       "      <td>3.746324e+05</td>\n",
       "      <td>-3.712060e+01</td>\n",
       "    </tr>\n",
       "    <tr>\n",
       "      <th>7778</th>\n",
       "      <td>2020-12-24 02:00:00</td>\n",
       "      <td>0.000000</td>\n",
       "      <td>1.021382e+05</td>\n",
       "      <td>0.000000e+00</td>\n",
       "    </tr>\n",
       "    <tr>\n",
       "      <th>7779</th>\n",
       "      <td>2020-12-24 03:00:00</td>\n",
       "      <td>3.426800</td>\n",
       "      <td>3.143988e+05</td>\n",
       "      <td>3.426800e+00</td>\n",
       "    </tr>\n",
       "    <tr>\n",
       "      <th>7780</th>\n",
       "      <td>2020-12-24 04:00:00</td>\n",
       "      <td>245.263500</td>\n",
       "      <td>1.235349e+06</td>\n",
       "      <td>2.452635e+02</td>\n",
       "    </tr>\n",
       "    <tr>\n",
       "      <th>7781</th>\n",
       "      <td>2020-12-24 05:00:00</td>\n",
       "      <td>6.606933</td>\n",
       "      <td>3.358062e+06</td>\n",
       "      <td>6.606933e+00</td>\n",
       "    </tr>\n",
       "    <tr>\n",
       "      <th>7782</th>\n",
       "      <td>2020-12-24 06:00:00</td>\n",
       "      <td>10.086900</td>\n",
       "      <td>7.583908e+06</td>\n",
       "      <td>1.008690e+01</td>\n",
       "    </tr>\n",
       "    <tr>\n",
       "      <th>7783</th>\n",
       "      <td>2020-12-24 07:00:00</td>\n",
       "      <td>323352.518683</td>\n",
       "      <td>1.906463e+06</td>\n",
       "      <td>1.330195e+06</td>\n",
       "    </tr>\n",
       "    <tr>\n",
       "      <th>7784</th>\n",
       "      <td>2020-12-24 08:00:00</td>\n",
       "      <td>4182.155938</td>\n",
       "      <td>7.325428e+03</td>\n",
       "      <td>4.382463e+03</td>\n",
       "    </tr>\n",
       "    <tr>\n",
       "      <th>7785</th>\n",
       "      <td>2020-12-24 09:00:00</td>\n",
       "      <td>27.185871</td>\n",
       "      <td>3.062728e+01</td>\n",
       "      <td>2.271254e+01</td>\n",
       "    </tr>\n",
       "    <tr>\n",
       "      <th>7786</th>\n",
       "      <td>2020-12-24 10:00:00</td>\n",
       "      <td>33.073971</td>\n",
       "      <td>7.732712e+01</td>\n",
       "      <td>3.460837e+01</td>\n",
       "    </tr>\n",
       "    <tr>\n",
       "      <th>7787</th>\n",
       "      <td>2020-12-24 11:00:00</td>\n",
       "      <td>1905.565380</td>\n",
       "      <td>8.566911e+03</td>\n",
       "      <td>2.064701e+03</td>\n",
       "    </tr>\n",
       "    <tr>\n",
       "      <th>7788</th>\n",
       "      <td>2020-12-24 12:00:00</td>\n",
       "      <td>2493.655905</td>\n",
       "      <td>9.322586e+03</td>\n",
       "      <td>2.476202e+03</td>\n",
       "    </tr>\n",
       "    <tr>\n",
       "      <th>7789</th>\n",
       "      <td>2020-12-24 13:00:00</td>\n",
       "      <td>7828.745192</td>\n",
       "      <td>1.660654e+04</td>\n",
       "      <td>7.936851e+03</td>\n",
       "    </tr>\n",
       "    <tr>\n",
       "      <th>7790</th>\n",
       "      <td>2020-12-24 14:00:00</td>\n",
       "      <td>290976.229252</td>\n",
       "      <td>3.181787e+05</td>\n",
       "      <td>3.181483e+05</td>\n",
       "    </tr>\n",
       "    <tr>\n",
       "      <th>7791</th>\n",
       "      <td>2020-12-24 15:00:00</td>\n",
       "      <td>9050.833163</td>\n",
       "      <td>1.006508e+04</td>\n",
       "      <td>1.296474e+04</td>\n",
       "    </tr>\n",
       "    <tr>\n",
       "      <th>7792</th>\n",
       "      <td>2020-12-24 16:00:00</td>\n",
       "      <td>261.483106</td>\n",
       "      <td>2.061460e+03</td>\n",
       "      <td>-8.234039e+02</td>\n",
       "    </tr>\n",
       "    <tr>\n",
       "      <th>7793</th>\n",
       "      <td>2020-12-24 17:00:00</td>\n",
       "      <td>-279.185367</td>\n",
       "      <td>1.299872e+06</td>\n",
       "      <td>-2.791854e+02</td>\n",
       "    </tr>\n",
       "    <tr>\n",
       "      <th>7794</th>\n",
       "      <td>2020-12-24 18:00:00</td>\n",
       "      <td>114.865500</td>\n",
       "      <td>1.841264e+06</td>\n",
       "      <td>1.148655e+02</td>\n",
       "    </tr>\n",
       "    <tr>\n",
       "      <th>7795</th>\n",
       "      <td>2020-12-24 19:00:00</td>\n",
       "      <td>-220.294667</td>\n",
       "      <td>1.048914e+06</td>\n",
       "      <td>-2.202947e+02</td>\n",
       "    </tr>\n",
       "    <tr>\n",
       "      <th>7796</th>\n",
       "      <td>2020-12-24 20:00:00</td>\n",
       "      <td>-319.849367</td>\n",
       "      <td>7.300638e+05</td>\n",
       "      <td>-3.198494e+02</td>\n",
       "    </tr>\n",
       "    <tr>\n",
       "      <th>7797</th>\n",
       "      <td>2020-12-24 21:00:00</td>\n",
       "      <td>-5.642733</td>\n",
       "      <td>5.735026e+04</td>\n",
       "      <td>-5.642733e+00</td>\n",
       "    </tr>\n",
       "    <tr>\n",
       "      <th>7798</th>\n",
       "      <td>2020-12-24 22:00:00</td>\n",
       "      <td>-39.114367</td>\n",
       "      <td>1.054612e+04</td>\n",
       "      <td>-3.911437e+01</td>\n",
       "    </tr>\n",
       "    <tr>\n",
       "      <th>7799</th>\n",
       "      <td>2020-12-24 23:00:00</td>\n",
       "      <td>-50.754000</td>\n",
       "      <td>1.301489e+04</td>\n",
       "      <td>-5.075400e+01</td>\n",
       "    </tr>\n",
       "  </tbody>\n",
       "</table>\n",
       "</div>"
      ],
      "text/plain": [
       "                    time           RTPV          WIND            PV\n",
       "7776 2020-12-24 00:00:00      47.210367  2.647480e+06  4.721037e+01\n",
       "7777 2020-12-24 01:00:00     -37.120600  3.746324e+05 -3.712060e+01\n",
       "7778 2020-12-24 02:00:00       0.000000  1.021382e+05  0.000000e+00\n",
       "7779 2020-12-24 03:00:00       3.426800  3.143988e+05  3.426800e+00\n",
       "7780 2020-12-24 04:00:00     245.263500  1.235349e+06  2.452635e+02\n",
       "7781 2020-12-24 05:00:00       6.606933  3.358062e+06  6.606933e+00\n",
       "7782 2020-12-24 06:00:00      10.086900  7.583908e+06  1.008690e+01\n",
       "7783 2020-12-24 07:00:00  323352.518683  1.906463e+06  1.330195e+06\n",
       "7784 2020-12-24 08:00:00    4182.155938  7.325428e+03  4.382463e+03\n",
       "7785 2020-12-24 09:00:00      27.185871  3.062728e+01  2.271254e+01\n",
       "7786 2020-12-24 10:00:00      33.073971  7.732712e+01  3.460837e+01\n",
       "7787 2020-12-24 11:00:00    1905.565380  8.566911e+03  2.064701e+03\n",
       "7788 2020-12-24 12:00:00    2493.655905  9.322586e+03  2.476202e+03\n",
       "7789 2020-12-24 13:00:00    7828.745192  1.660654e+04  7.936851e+03\n",
       "7790 2020-12-24 14:00:00  290976.229252  3.181787e+05  3.181483e+05\n",
       "7791 2020-12-24 15:00:00    9050.833163  1.006508e+04  1.296474e+04\n",
       "7792 2020-12-24 16:00:00     261.483106  2.061460e+03 -8.234039e+02\n",
       "7793 2020-12-24 17:00:00    -279.185367  1.299872e+06 -2.791854e+02\n",
       "7794 2020-12-24 18:00:00     114.865500  1.841264e+06  1.148655e+02\n",
       "7795 2020-12-24 19:00:00    -220.294667  1.048914e+06 -2.202947e+02\n",
       "7796 2020-12-24 20:00:00    -319.849367  7.300638e+05 -3.198494e+02\n",
       "7797 2020-12-24 21:00:00      -5.642733  5.735026e+04 -5.642733e+00\n",
       "7798 2020-12-24 22:00:00     -39.114367  1.054612e+04 -3.911437e+01\n",
       "7799 2020-12-24 23:00:00     -50.754000  1.301489e+04 -5.075400e+01"
      ]
     },
     "execution_count": 6,
     "metadata": {},
     "output_type": "execute_result"
    }
   ],
   "source": [
    "input_start_date = datetime(2020, 12, 24) # By default 0 hour 0 minutes \n",
    "input_start_date_verbal = input_start_date.strftime(\"%b %d, %Y\")\n",
    "\n",
    "# Create 24 hours interval on the input_date\n",
    "daterange_rts = pd.date_range(input_start_date, input_start_date + timedelta(hours = 23), freq='H')\n",
    "\n",
    "daterange_rts\n",
    "\n",
    "type_allocs_rts_day = type_allocs_rts[type_allocs_rts['time'].isin(daterange_rts)]\n",
    "type_allocs_rts_day.head(24)"
   ]
  },
  {
   "cell_type": "markdown",
   "id": "ff2dd083",
   "metadata": {},
   "source": [
    "## Use px.line function to create the plot"
   ]
  },
  {
   "cell_type": "code",
   "execution_count": 7,
   "id": "8c056c30",
   "metadata": {},
   "outputs": [],
   "source": [
    "fig_type_allocs_day = px.line(type_allocs_rts_day, \n",
    "                          x='time', y = ['RTPV', 'WIND', 'PV'],\n",
    "                          hover_data={\"time\": \"|Hour %H, %b %d\"})"
   ]
  },
  {
   "cell_type": "code",
   "execution_count": 8,
   "id": "e4e56eed",
   "metadata": {},
   "outputs": [
    {
     "data": {
      "application/vnd.plotly.v1+json": {
       "config": {
        "plotlyServerURL": "https://plot.ly"
       },
       "data": [
        {
         "hovertemplate": "variable=RTPV<br>time=%{x|Hour %H, %b %d}<br>value=%{y}<extra></extra>",
         "legendgroup": "RTPV",
         "line": {
          "color": "#636efa",
          "dash": "solid"
         },
         "marker": {
          "symbol": "circle"
         },
         "mode": "lines",
         "name": "RTPV",
         "orientation": "v",
         "showlegend": true,
         "type": "scatter",
         "x": [
          "2020-12-24T00:00:00",
          "2020-12-24T01:00:00",
          "2020-12-24T02:00:00",
          "2020-12-24T03:00:00",
          "2020-12-24T04:00:00",
          "2020-12-24T05:00:00",
          "2020-12-24T06:00:00",
          "2020-12-24T07:00:00",
          "2020-12-24T08:00:00",
          "2020-12-24T09:00:00",
          "2020-12-24T10:00:00",
          "2020-12-24T11:00:00",
          "2020-12-24T12:00:00",
          "2020-12-24T13:00:00",
          "2020-12-24T14:00:00",
          "2020-12-24T15:00:00",
          "2020-12-24T16:00:00",
          "2020-12-24T17:00:00",
          "2020-12-24T18:00:00",
          "2020-12-24T19:00:00",
          "2020-12-24T20:00:00",
          "2020-12-24T21:00:00",
          "2020-12-24T22:00:00",
          "2020-12-24T23:00:00"
         ],
         "xaxis": "x",
         "y": [
          47.21036666666623,
          -37.12059999999956,
          0,
          3.4267999999998806,
          245.2634999999996,
          6.6069333333313525,
          10.08690000000206,
          323352.51868300646,
          4182.1559379084965,
          27.185871116666668,
          33.07397145000001,
          1905.5653803921573,
          2493.655904901961,
          7828.745191503266,
          290976.229251634,
          9050.833162745104,
          261.4831055555554,
          -279.1853666666625,
          114.86549999999988,
          -220.2946666666636,
          -319.8493666666669,
          -5.64273333333646,
          -39.11436666666605,
          -50.754000000000815
         ],
         "yaxis": "y"
        },
        {
         "hovertemplate": "variable=WIND<br>time=%{x|Hour %H, %b %d}<br>value=%{y}<extra></extra>",
         "legendgroup": "WIND",
         "line": {
          "color": "#EF553B",
          "dash": "solid"
         },
         "marker": {
          "symbol": "circle"
         },
         "mode": "lines",
         "name": "WIND",
         "orientation": "v",
         "showlegend": true,
         "type": "scatter",
         "x": [
          "2020-12-24T00:00:00",
          "2020-12-24T01:00:00",
          "2020-12-24T02:00:00",
          "2020-12-24T03:00:00",
          "2020-12-24T04:00:00",
          "2020-12-24T05:00:00",
          "2020-12-24T06:00:00",
          "2020-12-24T07:00:00",
          "2020-12-24T08:00:00",
          "2020-12-24T09:00:00",
          "2020-12-24T10:00:00",
          "2020-12-24T11:00:00",
          "2020-12-24T12:00:00",
          "2020-12-24T13:00:00",
          "2020-12-24T14:00:00",
          "2020-12-24T15:00:00",
          "2020-12-24T16:00:00",
          "2020-12-24T17:00:00",
          "2020-12-24T18:00:00",
          "2020-12-24T19:00:00",
          "2020-12-24T20:00:00",
          "2020-12-24T21:00:00",
          "2020-12-24T22:00:00",
          "2020-12-24T23:00:00"
         ],
         "xaxis": "x",
         "y": [
          2647480.454884317,
          374632.443354902,
          102138.18599999996,
          314398.7575862745,
          1235348.9441686275,
          3358061.996984312,
          7583908.2790647,
          1906463.0186790847,
          7325.427765359478,
          30.62728116666665,
          77.32711735,
          8566.91134117647,
          9322.586216666665,
          16606.53714444444,
          318178.7463232027,
          10065.084715686276,
          2061.460321241829,
          1299872.103758822,
          1841264.265845097,
          1048914.2486313723,
          730063.829456863,
          57350.2559882353,
          10546.12310980392,
          13014.88914117647
         ],
         "yaxis": "y"
        },
        {
         "hovertemplate": "variable=PV<br>time=%{x|Hour %H, %b %d}<br>value=%{y}<extra></extra>",
         "legendgroup": "PV",
         "line": {
          "color": "#00cc96",
          "dash": "solid"
         },
         "marker": {
          "symbol": "circle"
         },
         "mode": "lines",
         "name": "PV",
         "orientation": "v",
         "showlegend": true,
         "type": "scatter",
         "x": [
          "2020-12-24T00:00:00",
          "2020-12-24T01:00:00",
          "2020-12-24T02:00:00",
          "2020-12-24T03:00:00",
          "2020-12-24T04:00:00",
          "2020-12-24T05:00:00",
          "2020-12-24T06:00:00",
          "2020-12-24T07:00:00",
          "2020-12-24T08:00:00",
          "2020-12-24T09:00:00",
          "2020-12-24T10:00:00",
          "2020-12-24T11:00:00",
          "2020-12-24T12:00:00",
          "2020-12-24T13:00:00",
          "2020-12-24T14:00:00",
          "2020-12-24T15:00:00",
          "2020-12-24T16:00:00",
          "2020-12-24T17:00:00",
          "2020-12-24T18:00:00",
          "2020-12-24T19:00:00",
          "2020-12-24T20:00:00",
          "2020-12-24T21:00:00",
          "2020-12-24T22:00:00",
          "2020-12-24T23:00:00"
         ],
         "xaxis": "x",
         "y": [
          47.21036666666623,
          -37.12059999999956,
          0,
          3.4267999999998806,
          245.2634999999996,
          6.6069333333313525,
          10.08690000000206,
          1330195.0934222222,
          4382.46344379085,
          22.712535516666662,
          34.608373099999994,
          2064.701303921569,
          2476.201974509804,
          7936.851491503266,
          318148.3399839869,
          12964.735776470596,
          -823.4038875816977,
          -279.1853666666625,
          114.86549999999988,
          -220.2946666666636,
          -319.8493666666669,
          -5.64273333333646,
          -39.11436666666605,
          -50.754000000000815
         ],
         "yaxis": "y"
        }
       ],
       "layout": {
        "font": {
         "color": "#606060",
         "family": "sans-serif",
         "size": 16
        },
        "legend": {
         "font": {
          "size": 20
         },
         "title": {
          "text": "Asset Type"
         },
         "tracegroupgap": 0,
         "x": 1,
         "y": 1
        },
        "margin": {
         "t": 60
        },
        "paper_bgcolor": "white",
        "plot_bgcolor": "#F9f9f9",
        "template": {
         "data": {
          "bar": [
           {
            "error_x": {
             "color": "#2a3f5f"
            },
            "error_y": {
             "color": "#2a3f5f"
            },
            "marker": {
             "line": {
              "color": "#E5ECF6",
              "width": 0.5
             },
             "pattern": {
              "fillmode": "overlay",
              "size": 10,
              "solidity": 0.2
             }
            },
            "type": "bar"
           }
          ],
          "barpolar": [
           {
            "marker": {
             "line": {
              "color": "#E5ECF6",
              "width": 0.5
             },
             "pattern": {
              "fillmode": "overlay",
              "size": 10,
              "solidity": 0.2
             }
            },
            "type": "barpolar"
           }
          ],
          "carpet": [
           {
            "aaxis": {
             "endlinecolor": "#2a3f5f",
             "gridcolor": "white",
             "linecolor": "white",
             "minorgridcolor": "white",
             "startlinecolor": "#2a3f5f"
            },
            "baxis": {
             "endlinecolor": "#2a3f5f",
             "gridcolor": "white",
             "linecolor": "white",
             "minorgridcolor": "white",
             "startlinecolor": "#2a3f5f"
            },
            "type": "carpet"
           }
          ],
          "choropleth": [
           {
            "colorbar": {
             "outlinewidth": 0,
             "ticks": ""
            },
            "type": "choropleth"
           }
          ],
          "contour": [
           {
            "colorbar": {
             "outlinewidth": 0,
             "ticks": ""
            },
            "colorscale": [
             [
              0,
              "#0d0887"
             ],
             [
              0.1111111111111111,
              "#46039f"
             ],
             [
              0.2222222222222222,
              "#7201a8"
             ],
             [
              0.3333333333333333,
              "#9c179e"
             ],
             [
              0.4444444444444444,
              "#bd3786"
             ],
             [
              0.5555555555555556,
              "#d8576b"
             ],
             [
              0.6666666666666666,
              "#ed7953"
             ],
             [
              0.7777777777777778,
              "#fb9f3a"
             ],
             [
              0.8888888888888888,
              "#fdca26"
             ],
             [
              1,
              "#f0f921"
             ]
            ],
            "type": "contour"
           }
          ],
          "contourcarpet": [
           {
            "colorbar": {
             "outlinewidth": 0,
             "ticks": ""
            },
            "type": "contourcarpet"
           }
          ],
          "heatmap": [
           {
            "colorbar": {
             "outlinewidth": 0,
             "ticks": ""
            },
            "colorscale": [
             [
              0,
              "#0d0887"
             ],
             [
              0.1111111111111111,
              "#46039f"
             ],
             [
              0.2222222222222222,
              "#7201a8"
             ],
             [
              0.3333333333333333,
              "#9c179e"
             ],
             [
              0.4444444444444444,
              "#bd3786"
             ],
             [
              0.5555555555555556,
              "#d8576b"
             ],
             [
              0.6666666666666666,
              "#ed7953"
             ],
             [
              0.7777777777777778,
              "#fb9f3a"
             ],
             [
              0.8888888888888888,
              "#fdca26"
             ],
             [
              1,
              "#f0f921"
             ]
            ],
            "type": "heatmap"
           }
          ],
          "heatmapgl": [
           {
            "colorbar": {
             "outlinewidth": 0,
             "ticks": ""
            },
            "colorscale": [
             [
              0,
              "#0d0887"
             ],
             [
              0.1111111111111111,
              "#46039f"
             ],
             [
              0.2222222222222222,
              "#7201a8"
             ],
             [
              0.3333333333333333,
              "#9c179e"
             ],
             [
              0.4444444444444444,
              "#bd3786"
             ],
             [
              0.5555555555555556,
              "#d8576b"
             ],
             [
              0.6666666666666666,
              "#ed7953"
             ],
             [
              0.7777777777777778,
              "#fb9f3a"
             ],
             [
              0.8888888888888888,
              "#fdca26"
             ],
             [
              1,
              "#f0f921"
             ]
            ],
            "type": "heatmapgl"
           }
          ],
          "histogram": [
           {
            "marker": {
             "pattern": {
              "fillmode": "overlay",
              "size": 10,
              "solidity": 0.2
             }
            },
            "type": "histogram"
           }
          ],
          "histogram2d": [
           {
            "colorbar": {
             "outlinewidth": 0,
             "ticks": ""
            },
            "colorscale": [
             [
              0,
              "#0d0887"
             ],
             [
              0.1111111111111111,
              "#46039f"
             ],
             [
              0.2222222222222222,
              "#7201a8"
             ],
             [
              0.3333333333333333,
              "#9c179e"
             ],
             [
              0.4444444444444444,
              "#bd3786"
             ],
             [
              0.5555555555555556,
              "#d8576b"
             ],
             [
              0.6666666666666666,
              "#ed7953"
             ],
             [
              0.7777777777777778,
              "#fb9f3a"
             ],
             [
              0.8888888888888888,
              "#fdca26"
             ],
             [
              1,
              "#f0f921"
             ]
            ],
            "type": "histogram2d"
           }
          ],
          "histogram2dcontour": [
           {
            "colorbar": {
             "outlinewidth": 0,
             "ticks": ""
            },
            "colorscale": [
             [
              0,
              "#0d0887"
             ],
             [
              0.1111111111111111,
              "#46039f"
             ],
             [
              0.2222222222222222,
              "#7201a8"
             ],
             [
              0.3333333333333333,
              "#9c179e"
             ],
             [
              0.4444444444444444,
              "#bd3786"
             ],
             [
              0.5555555555555556,
              "#d8576b"
             ],
             [
              0.6666666666666666,
              "#ed7953"
             ],
             [
              0.7777777777777778,
              "#fb9f3a"
             ],
             [
              0.8888888888888888,
              "#fdca26"
             ],
             [
              1,
              "#f0f921"
             ]
            ],
            "type": "histogram2dcontour"
           }
          ],
          "mesh3d": [
           {
            "colorbar": {
             "outlinewidth": 0,
             "ticks": ""
            },
            "type": "mesh3d"
           }
          ],
          "parcoords": [
           {
            "line": {
             "colorbar": {
              "outlinewidth": 0,
              "ticks": ""
             }
            },
            "type": "parcoords"
           }
          ],
          "pie": [
           {
            "automargin": true,
            "type": "pie"
           }
          ],
          "scatter": [
           {
            "fillpattern": {
             "fillmode": "overlay",
             "size": 10,
             "solidity": 0.2
            },
            "type": "scatter"
           }
          ],
          "scatter3d": [
           {
            "line": {
             "colorbar": {
              "outlinewidth": 0,
              "ticks": ""
             }
            },
            "marker": {
             "colorbar": {
              "outlinewidth": 0,
              "ticks": ""
             }
            },
            "type": "scatter3d"
           }
          ],
          "scattercarpet": [
           {
            "marker": {
             "colorbar": {
              "outlinewidth": 0,
              "ticks": ""
             }
            },
            "type": "scattercarpet"
           }
          ],
          "scattergeo": [
           {
            "marker": {
             "colorbar": {
              "outlinewidth": 0,
              "ticks": ""
             }
            },
            "type": "scattergeo"
           }
          ],
          "scattergl": [
           {
            "marker": {
             "colorbar": {
              "outlinewidth": 0,
              "ticks": ""
             }
            },
            "type": "scattergl"
           }
          ],
          "scattermapbox": [
           {
            "marker": {
             "colorbar": {
              "outlinewidth": 0,
              "ticks": ""
             }
            },
            "type": "scattermapbox"
           }
          ],
          "scatterpolar": [
           {
            "marker": {
             "colorbar": {
              "outlinewidth": 0,
              "ticks": ""
             }
            },
            "type": "scatterpolar"
           }
          ],
          "scatterpolargl": [
           {
            "marker": {
             "colorbar": {
              "outlinewidth": 0,
              "ticks": ""
             }
            },
            "type": "scatterpolargl"
           }
          ],
          "scatterternary": [
           {
            "marker": {
             "colorbar": {
              "outlinewidth": 0,
              "ticks": ""
             }
            },
            "type": "scatterternary"
           }
          ],
          "surface": [
           {
            "colorbar": {
             "outlinewidth": 0,
             "ticks": ""
            },
            "colorscale": [
             [
              0,
              "#0d0887"
             ],
             [
              0.1111111111111111,
              "#46039f"
             ],
             [
              0.2222222222222222,
              "#7201a8"
             ],
             [
              0.3333333333333333,
              "#9c179e"
             ],
             [
              0.4444444444444444,
              "#bd3786"
             ],
             [
              0.5555555555555556,
              "#d8576b"
             ],
             [
              0.6666666666666666,
              "#ed7953"
             ],
             [
              0.7777777777777778,
              "#fb9f3a"
             ],
             [
              0.8888888888888888,
              "#fdca26"
             ],
             [
              1,
              "#f0f921"
             ]
            ],
            "type": "surface"
           }
          ],
          "table": [
           {
            "cells": {
             "fill": {
              "color": "#EBF0F8"
             },
             "line": {
              "color": "white"
             }
            },
            "header": {
             "fill": {
              "color": "#C8D4E3"
             },
             "line": {
              "color": "white"
             }
            },
            "type": "table"
           }
          ]
         },
         "layout": {
          "annotationdefaults": {
           "arrowcolor": "#2a3f5f",
           "arrowhead": 0,
           "arrowwidth": 1
          },
          "autotypenumbers": "strict",
          "coloraxis": {
           "colorbar": {
            "outlinewidth": 0,
            "ticks": ""
           }
          },
          "colorscale": {
           "diverging": [
            [
             0,
             "#8e0152"
            ],
            [
             0.1,
             "#c51b7d"
            ],
            [
             0.2,
             "#de77ae"
            ],
            [
             0.3,
             "#f1b6da"
            ],
            [
             0.4,
             "#fde0ef"
            ],
            [
             0.5,
             "#f7f7f7"
            ],
            [
             0.6,
             "#e6f5d0"
            ],
            [
             0.7,
             "#b8e186"
            ],
            [
             0.8,
             "#7fbc41"
            ],
            [
             0.9,
             "#4d9221"
            ],
            [
             1,
             "#276419"
            ]
           ],
           "sequential": [
            [
             0,
             "#0d0887"
            ],
            [
             0.1111111111111111,
             "#46039f"
            ],
            [
             0.2222222222222222,
             "#7201a8"
            ],
            [
             0.3333333333333333,
             "#9c179e"
            ],
            [
             0.4444444444444444,
             "#bd3786"
            ],
            [
             0.5555555555555556,
             "#d8576b"
            ],
            [
             0.6666666666666666,
             "#ed7953"
            ],
            [
             0.7777777777777778,
             "#fb9f3a"
            ],
            [
             0.8888888888888888,
             "#fdca26"
            ],
            [
             1,
             "#f0f921"
            ]
           ],
           "sequentialminus": [
            [
             0,
             "#0d0887"
            ],
            [
             0.1111111111111111,
             "#46039f"
            ],
            [
             0.2222222222222222,
             "#7201a8"
            ],
            [
             0.3333333333333333,
             "#9c179e"
            ],
            [
             0.4444444444444444,
             "#bd3786"
            ],
            [
             0.5555555555555556,
             "#d8576b"
            ],
            [
             0.6666666666666666,
             "#ed7953"
            ],
            [
             0.7777777777777778,
             "#fb9f3a"
            ],
            [
             0.8888888888888888,
             "#fdca26"
            ],
            [
             1,
             "#f0f921"
            ]
           ]
          },
          "colorway": [
           "#636efa",
           "#EF553B",
           "#00cc96",
           "#ab63fa",
           "#FFA15A",
           "#19d3f3",
           "#FF6692",
           "#B6E880",
           "#FF97FF",
           "#FECB52"
          ],
          "font": {
           "color": "#2a3f5f"
          },
          "geo": {
           "bgcolor": "white",
           "lakecolor": "white",
           "landcolor": "#E5ECF6",
           "showlakes": true,
           "showland": true,
           "subunitcolor": "white"
          },
          "hoverlabel": {
           "align": "left"
          },
          "hovermode": "closest",
          "mapbox": {
           "style": "light"
          },
          "paper_bgcolor": "white",
          "plot_bgcolor": "#E5ECF6",
          "polar": {
           "angularaxis": {
            "gridcolor": "white",
            "linecolor": "white",
            "ticks": ""
           },
           "bgcolor": "#E5ECF6",
           "radialaxis": {
            "gridcolor": "white",
            "linecolor": "white",
            "ticks": ""
           }
          },
          "scene": {
           "xaxis": {
            "backgroundcolor": "#E5ECF6",
            "gridcolor": "white",
            "gridwidth": 2,
            "linecolor": "white",
            "showbackground": true,
            "ticks": "",
            "zerolinecolor": "white"
           },
           "yaxis": {
            "backgroundcolor": "#E5ECF6",
            "gridcolor": "white",
            "gridwidth": 2,
            "linecolor": "white",
            "showbackground": true,
            "ticks": "",
            "zerolinecolor": "white"
           },
           "zaxis": {
            "backgroundcolor": "#E5ECF6",
            "gridcolor": "white",
            "gridwidth": 2,
            "linecolor": "white",
            "showbackground": true,
            "ticks": "",
            "zerolinecolor": "white"
           }
          },
          "shapedefaults": {
           "line": {
            "color": "#2a3f5f"
           }
          },
          "ternary": {
           "aaxis": {
            "gridcolor": "white",
            "linecolor": "white",
            "ticks": ""
           },
           "baxis": {
            "gridcolor": "white",
            "linecolor": "white",
            "ticks": ""
           },
           "bgcolor": "#E5ECF6",
           "caxis": {
            "gridcolor": "white",
            "linecolor": "white",
            "ticks": ""
           }
          },
          "title": {
           "x": 0.05
          },
          "xaxis": {
           "automargin": true,
           "gridcolor": "white",
           "linecolor": "white",
           "ticks": "",
           "title": {
            "standoff": 15
           },
           "zerolinecolor": "white",
           "zerolinewidth": 2
          },
          "yaxis": {
           "automargin": true,
           "gridcolor": "white",
           "linecolor": "white",
           "ticks": "",
           "title": {
            "standoff": 15
           },
           "zerolinecolor": "white",
           "zerolinewidth": 2
          }
         }
        },
        "title": {
         "font": {
          "color": "black",
          "size": 25
         },
         "text": "Hourly Time Series of Asset Type Reliability Cost Index on Dec 24, 2020"
        },
        "xaxis": {
         "anchor": "y",
         "domain": [
          0,
          1
         ],
         "title": {
          "text": "Time"
         }
        },
        "yaxis": {
         "anchor": "x",
         "domain": [
          0,
          1
         ],
         "title": {
          "text": "Reliability Cost Index ($)"
         }
        }
       }
      },
      "text/html": [
       "<div>                            <div id=\"4b520a3c-53d3-496d-87dd-7760af1ae342\" class=\"plotly-graph-div\" style=\"height:525px; width:100%;\"></div>            <script type=\"text/javascript\">                require([\"plotly\"], function(Plotly) {                    window.PLOTLYENV=window.PLOTLYENV || {};                                    if (document.getElementById(\"4b520a3c-53d3-496d-87dd-7760af1ae342\")) {                    Plotly.newPlot(                        \"4b520a3c-53d3-496d-87dd-7760af1ae342\",                        [{\"hovertemplate\":\"variable=RTPV<br>time=%{x|Hour %H, %b %d}<br>value=%{y}<extra></extra>\",\"legendgroup\":\"RTPV\",\"line\":{\"color\":\"#636efa\",\"dash\":\"solid\"},\"marker\":{\"symbol\":\"circle\"},\"mode\":\"lines\",\"name\":\"RTPV\",\"orientation\":\"v\",\"showlegend\":true,\"x\":[\"2020-12-24T00:00:00\",\"2020-12-24T01:00:00\",\"2020-12-24T02:00:00\",\"2020-12-24T03:00:00\",\"2020-12-24T04:00:00\",\"2020-12-24T05:00:00\",\"2020-12-24T06:00:00\",\"2020-12-24T07:00:00\",\"2020-12-24T08:00:00\",\"2020-12-24T09:00:00\",\"2020-12-24T10:00:00\",\"2020-12-24T11:00:00\",\"2020-12-24T12:00:00\",\"2020-12-24T13:00:00\",\"2020-12-24T14:00:00\",\"2020-12-24T15:00:00\",\"2020-12-24T16:00:00\",\"2020-12-24T17:00:00\",\"2020-12-24T18:00:00\",\"2020-12-24T19:00:00\",\"2020-12-24T20:00:00\",\"2020-12-24T21:00:00\",\"2020-12-24T22:00:00\",\"2020-12-24T23:00:00\"],\"xaxis\":\"x\",\"y\":[47.21036666666623,-37.12059999999956,0.0,3.4267999999998806,245.2634999999996,6.6069333333313525,10.08690000000206,323352.51868300646,4182.1559379084965,27.185871116666668,33.07397145000001,1905.5653803921573,2493.655904901961,7828.745191503266,290976.229251634,9050.833162745104,261.4831055555554,-279.1853666666625,114.86549999999988,-220.2946666666636,-319.8493666666669,-5.64273333333646,-39.11436666666605,-50.754000000000815],\"yaxis\":\"y\",\"type\":\"scatter\"},{\"hovertemplate\":\"variable=WIND<br>time=%{x|Hour %H, %b %d}<br>value=%{y}<extra></extra>\",\"legendgroup\":\"WIND\",\"line\":{\"color\":\"#EF553B\",\"dash\":\"solid\"},\"marker\":{\"symbol\":\"circle\"},\"mode\":\"lines\",\"name\":\"WIND\",\"orientation\":\"v\",\"showlegend\":true,\"x\":[\"2020-12-24T00:00:00\",\"2020-12-24T01:00:00\",\"2020-12-24T02:00:00\",\"2020-12-24T03:00:00\",\"2020-12-24T04:00:00\",\"2020-12-24T05:00:00\",\"2020-12-24T06:00:00\",\"2020-12-24T07:00:00\",\"2020-12-24T08:00:00\",\"2020-12-24T09:00:00\",\"2020-12-24T10:00:00\",\"2020-12-24T11:00:00\",\"2020-12-24T12:00:00\",\"2020-12-24T13:00:00\",\"2020-12-24T14:00:00\",\"2020-12-24T15:00:00\",\"2020-12-24T16:00:00\",\"2020-12-24T17:00:00\",\"2020-12-24T18:00:00\",\"2020-12-24T19:00:00\",\"2020-12-24T20:00:00\",\"2020-12-24T21:00:00\",\"2020-12-24T22:00:00\",\"2020-12-24T23:00:00\"],\"xaxis\":\"x\",\"y\":[2647480.454884317,374632.443354902,102138.18599999996,314398.7575862745,1235348.9441686275,3358061.996984312,7583908.2790647,1906463.0186790847,7325.427765359478,30.62728116666665,77.32711735,8566.91134117647,9322.586216666665,16606.53714444444,318178.7463232027,10065.084715686276,2061.460321241829,1299872.103758822,1841264.265845097,1048914.2486313723,730063.829456863,57350.2559882353,10546.12310980392,13014.88914117647],\"yaxis\":\"y\",\"type\":\"scatter\"},{\"hovertemplate\":\"variable=PV<br>time=%{x|Hour %H, %b %d}<br>value=%{y}<extra></extra>\",\"legendgroup\":\"PV\",\"line\":{\"color\":\"#00cc96\",\"dash\":\"solid\"},\"marker\":{\"symbol\":\"circle\"},\"mode\":\"lines\",\"name\":\"PV\",\"orientation\":\"v\",\"showlegend\":true,\"x\":[\"2020-12-24T00:00:00\",\"2020-12-24T01:00:00\",\"2020-12-24T02:00:00\",\"2020-12-24T03:00:00\",\"2020-12-24T04:00:00\",\"2020-12-24T05:00:00\",\"2020-12-24T06:00:00\",\"2020-12-24T07:00:00\",\"2020-12-24T08:00:00\",\"2020-12-24T09:00:00\",\"2020-12-24T10:00:00\",\"2020-12-24T11:00:00\",\"2020-12-24T12:00:00\",\"2020-12-24T13:00:00\",\"2020-12-24T14:00:00\",\"2020-12-24T15:00:00\",\"2020-12-24T16:00:00\",\"2020-12-24T17:00:00\",\"2020-12-24T18:00:00\",\"2020-12-24T19:00:00\",\"2020-12-24T20:00:00\",\"2020-12-24T21:00:00\",\"2020-12-24T22:00:00\",\"2020-12-24T23:00:00\"],\"xaxis\":\"x\",\"y\":[47.21036666666623,-37.12059999999956,0.0,3.4267999999998806,245.2634999999996,6.6069333333313525,10.08690000000206,1330195.0934222222,4382.46344379085,22.712535516666662,34.608373099999994,2064.701303921569,2476.201974509804,7936.851491503266,318148.3399839869,12964.735776470596,-823.4038875816977,-279.1853666666625,114.86549999999988,-220.2946666666636,-319.8493666666669,-5.64273333333646,-39.11436666666605,-50.754000000000815],\"yaxis\":\"y\",\"type\":\"scatter\"}],                        {\"template\":{\"data\":{\"histogram2dcontour\":[{\"type\":\"histogram2dcontour\",\"colorbar\":{\"outlinewidth\":0,\"ticks\":\"\"},\"colorscale\":[[0.0,\"#0d0887\"],[0.1111111111111111,\"#46039f\"],[0.2222222222222222,\"#7201a8\"],[0.3333333333333333,\"#9c179e\"],[0.4444444444444444,\"#bd3786\"],[0.5555555555555556,\"#d8576b\"],[0.6666666666666666,\"#ed7953\"],[0.7777777777777778,\"#fb9f3a\"],[0.8888888888888888,\"#fdca26\"],[1.0,\"#f0f921\"]]}],\"choropleth\":[{\"type\":\"choropleth\",\"colorbar\":{\"outlinewidth\":0,\"ticks\":\"\"}}],\"histogram2d\":[{\"type\":\"histogram2d\",\"colorbar\":{\"outlinewidth\":0,\"ticks\":\"\"},\"colorscale\":[[0.0,\"#0d0887\"],[0.1111111111111111,\"#46039f\"],[0.2222222222222222,\"#7201a8\"],[0.3333333333333333,\"#9c179e\"],[0.4444444444444444,\"#bd3786\"],[0.5555555555555556,\"#d8576b\"],[0.6666666666666666,\"#ed7953\"],[0.7777777777777778,\"#fb9f3a\"],[0.8888888888888888,\"#fdca26\"],[1.0,\"#f0f921\"]]}],\"heatmap\":[{\"type\":\"heatmap\",\"colorbar\":{\"outlinewidth\":0,\"ticks\":\"\"},\"colorscale\":[[0.0,\"#0d0887\"],[0.1111111111111111,\"#46039f\"],[0.2222222222222222,\"#7201a8\"],[0.3333333333333333,\"#9c179e\"],[0.4444444444444444,\"#bd3786\"],[0.5555555555555556,\"#d8576b\"],[0.6666666666666666,\"#ed7953\"],[0.7777777777777778,\"#fb9f3a\"],[0.8888888888888888,\"#fdca26\"],[1.0,\"#f0f921\"]]}],\"heatmapgl\":[{\"type\":\"heatmapgl\",\"colorbar\":{\"outlinewidth\":0,\"ticks\":\"\"},\"colorscale\":[[0.0,\"#0d0887\"],[0.1111111111111111,\"#46039f\"],[0.2222222222222222,\"#7201a8\"],[0.3333333333333333,\"#9c179e\"],[0.4444444444444444,\"#bd3786\"],[0.5555555555555556,\"#d8576b\"],[0.6666666666666666,\"#ed7953\"],[0.7777777777777778,\"#fb9f3a\"],[0.8888888888888888,\"#fdca26\"],[1.0,\"#f0f921\"]]}],\"contourcarpet\":[{\"type\":\"contourcarpet\",\"colorbar\":{\"outlinewidth\":0,\"ticks\":\"\"}}],\"contour\":[{\"type\":\"contour\",\"colorbar\":{\"outlinewidth\":0,\"ticks\":\"\"},\"colorscale\":[[0.0,\"#0d0887\"],[0.1111111111111111,\"#46039f\"],[0.2222222222222222,\"#7201a8\"],[0.3333333333333333,\"#9c179e\"],[0.4444444444444444,\"#bd3786\"],[0.5555555555555556,\"#d8576b\"],[0.6666666666666666,\"#ed7953\"],[0.7777777777777778,\"#fb9f3a\"],[0.8888888888888888,\"#fdca26\"],[1.0,\"#f0f921\"]]}],\"surface\":[{\"type\":\"surface\",\"colorbar\":{\"outlinewidth\":0,\"ticks\":\"\"},\"colorscale\":[[0.0,\"#0d0887\"],[0.1111111111111111,\"#46039f\"],[0.2222222222222222,\"#7201a8\"],[0.3333333333333333,\"#9c179e\"],[0.4444444444444444,\"#bd3786\"],[0.5555555555555556,\"#d8576b\"],[0.6666666666666666,\"#ed7953\"],[0.7777777777777778,\"#fb9f3a\"],[0.8888888888888888,\"#fdca26\"],[1.0,\"#f0f921\"]]}],\"mesh3d\":[{\"type\":\"mesh3d\",\"colorbar\":{\"outlinewidth\":0,\"ticks\":\"\"}}],\"scatter\":[{\"fillpattern\":{\"fillmode\":\"overlay\",\"size\":10,\"solidity\":0.2},\"type\":\"scatter\"}],\"parcoords\":[{\"type\":\"parcoords\",\"line\":{\"colorbar\":{\"outlinewidth\":0,\"ticks\":\"\"}}}],\"scatterpolargl\":[{\"type\":\"scatterpolargl\",\"marker\":{\"colorbar\":{\"outlinewidth\":0,\"ticks\":\"\"}}}],\"bar\":[{\"error_x\":{\"color\":\"#2a3f5f\"},\"error_y\":{\"color\":\"#2a3f5f\"},\"marker\":{\"line\":{\"color\":\"#E5ECF6\",\"width\":0.5},\"pattern\":{\"fillmode\":\"overlay\",\"size\":10,\"solidity\":0.2}},\"type\":\"bar\"}],\"scattergeo\":[{\"type\":\"scattergeo\",\"marker\":{\"colorbar\":{\"outlinewidth\":0,\"ticks\":\"\"}}}],\"scatterpolar\":[{\"type\":\"scatterpolar\",\"marker\":{\"colorbar\":{\"outlinewidth\":0,\"ticks\":\"\"}}}],\"histogram\":[{\"marker\":{\"pattern\":{\"fillmode\":\"overlay\",\"size\":10,\"solidity\":0.2}},\"type\":\"histogram\"}],\"scattergl\":[{\"type\":\"scattergl\",\"marker\":{\"colorbar\":{\"outlinewidth\":0,\"ticks\":\"\"}}}],\"scatter3d\":[{\"type\":\"scatter3d\",\"line\":{\"colorbar\":{\"outlinewidth\":0,\"ticks\":\"\"}},\"marker\":{\"colorbar\":{\"outlinewidth\":0,\"ticks\":\"\"}}}],\"scattermapbox\":[{\"type\":\"scattermapbox\",\"marker\":{\"colorbar\":{\"outlinewidth\":0,\"ticks\":\"\"}}}],\"scatterternary\":[{\"type\":\"scatterternary\",\"marker\":{\"colorbar\":{\"outlinewidth\":0,\"ticks\":\"\"}}}],\"scattercarpet\":[{\"type\":\"scattercarpet\",\"marker\":{\"colorbar\":{\"outlinewidth\":0,\"ticks\":\"\"}}}],\"carpet\":[{\"aaxis\":{\"endlinecolor\":\"#2a3f5f\",\"gridcolor\":\"white\",\"linecolor\":\"white\",\"minorgridcolor\":\"white\",\"startlinecolor\":\"#2a3f5f\"},\"baxis\":{\"endlinecolor\":\"#2a3f5f\",\"gridcolor\":\"white\",\"linecolor\":\"white\",\"minorgridcolor\":\"white\",\"startlinecolor\":\"#2a3f5f\"},\"type\":\"carpet\"}],\"table\":[{\"cells\":{\"fill\":{\"color\":\"#EBF0F8\"},\"line\":{\"color\":\"white\"}},\"header\":{\"fill\":{\"color\":\"#C8D4E3\"},\"line\":{\"color\":\"white\"}},\"type\":\"table\"}],\"barpolar\":[{\"marker\":{\"line\":{\"color\":\"#E5ECF6\",\"width\":0.5},\"pattern\":{\"fillmode\":\"overlay\",\"size\":10,\"solidity\":0.2}},\"type\":\"barpolar\"}],\"pie\":[{\"automargin\":true,\"type\":\"pie\"}]},\"layout\":{\"autotypenumbers\":\"strict\",\"colorway\":[\"#636efa\",\"#EF553B\",\"#00cc96\",\"#ab63fa\",\"#FFA15A\",\"#19d3f3\",\"#FF6692\",\"#B6E880\",\"#FF97FF\",\"#FECB52\"],\"font\":{\"color\":\"#2a3f5f\"},\"hovermode\":\"closest\",\"hoverlabel\":{\"align\":\"left\"},\"paper_bgcolor\":\"white\",\"plot_bgcolor\":\"#E5ECF6\",\"polar\":{\"bgcolor\":\"#E5ECF6\",\"angularaxis\":{\"gridcolor\":\"white\",\"linecolor\":\"white\",\"ticks\":\"\"},\"radialaxis\":{\"gridcolor\":\"white\",\"linecolor\":\"white\",\"ticks\":\"\"}},\"ternary\":{\"bgcolor\":\"#E5ECF6\",\"aaxis\":{\"gridcolor\":\"white\",\"linecolor\":\"white\",\"ticks\":\"\"},\"baxis\":{\"gridcolor\":\"white\",\"linecolor\":\"white\",\"ticks\":\"\"},\"caxis\":{\"gridcolor\":\"white\",\"linecolor\":\"white\",\"ticks\":\"\"}},\"coloraxis\":{\"colorbar\":{\"outlinewidth\":0,\"ticks\":\"\"}},\"colorscale\":{\"sequential\":[[0.0,\"#0d0887\"],[0.1111111111111111,\"#46039f\"],[0.2222222222222222,\"#7201a8\"],[0.3333333333333333,\"#9c179e\"],[0.4444444444444444,\"#bd3786\"],[0.5555555555555556,\"#d8576b\"],[0.6666666666666666,\"#ed7953\"],[0.7777777777777778,\"#fb9f3a\"],[0.8888888888888888,\"#fdca26\"],[1.0,\"#f0f921\"]],\"sequentialminus\":[[0.0,\"#0d0887\"],[0.1111111111111111,\"#46039f\"],[0.2222222222222222,\"#7201a8\"],[0.3333333333333333,\"#9c179e\"],[0.4444444444444444,\"#bd3786\"],[0.5555555555555556,\"#d8576b\"],[0.6666666666666666,\"#ed7953\"],[0.7777777777777778,\"#fb9f3a\"],[0.8888888888888888,\"#fdca26\"],[1.0,\"#f0f921\"]],\"diverging\":[[0,\"#8e0152\"],[0.1,\"#c51b7d\"],[0.2,\"#de77ae\"],[0.3,\"#f1b6da\"],[0.4,\"#fde0ef\"],[0.5,\"#f7f7f7\"],[0.6,\"#e6f5d0\"],[0.7,\"#b8e186\"],[0.8,\"#7fbc41\"],[0.9,\"#4d9221\"],[1,\"#276419\"]]},\"xaxis\":{\"gridcolor\":\"white\",\"linecolor\":\"white\",\"ticks\":\"\",\"title\":{\"standoff\":15},\"zerolinecolor\":\"white\",\"automargin\":true,\"zerolinewidth\":2},\"yaxis\":{\"gridcolor\":\"white\",\"linecolor\":\"white\",\"ticks\":\"\",\"title\":{\"standoff\":15},\"zerolinecolor\":\"white\",\"automargin\":true,\"zerolinewidth\":2},\"scene\":{\"xaxis\":{\"backgroundcolor\":\"#E5ECF6\",\"gridcolor\":\"white\",\"linecolor\":\"white\",\"showbackground\":true,\"ticks\":\"\",\"zerolinecolor\":\"white\",\"gridwidth\":2},\"yaxis\":{\"backgroundcolor\":\"#E5ECF6\",\"gridcolor\":\"white\",\"linecolor\":\"white\",\"showbackground\":true,\"ticks\":\"\",\"zerolinecolor\":\"white\",\"gridwidth\":2},\"zaxis\":{\"backgroundcolor\":\"#E5ECF6\",\"gridcolor\":\"white\",\"linecolor\":\"white\",\"showbackground\":true,\"ticks\":\"\",\"zerolinecolor\":\"white\",\"gridwidth\":2}},\"shapedefaults\":{\"line\":{\"color\":\"#2a3f5f\"}},\"annotationdefaults\":{\"arrowcolor\":\"#2a3f5f\",\"arrowhead\":0,\"arrowwidth\":1},\"geo\":{\"bgcolor\":\"white\",\"landcolor\":\"#E5ECF6\",\"subunitcolor\":\"white\",\"showland\":true,\"showlakes\":true,\"lakecolor\":\"white\"},\"title\":{\"x\":0.05},\"mapbox\":{\"style\":\"light\"}}},\"xaxis\":{\"anchor\":\"y\",\"domain\":[0.0,1.0],\"title\":{\"text\":\"Time\"}},\"yaxis\":{\"anchor\":\"x\",\"domain\":[0.0,1.0],\"title\":{\"text\":\"Reliability Cost Index ($)\"}},\"legend\":{\"title\":{\"text\":\"Asset Type\"},\"tracegroupgap\":0,\"font\":{\"size\":20},\"x\":1,\"y\":1},\"margin\":{\"t\":60},\"font\":{\"family\":\"sans-serif\",\"color\":\"#606060\",\"size\":16},\"title\":{\"text\":\"Hourly Time Series of Asset Type Reliability Cost Index on Dec 24, 2020\",\"font\":{\"color\":\"black\",\"size\":25}},\"plot_bgcolor\":\"#F9f9f9\",\"paper_bgcolor\":\"white\"},                        {\"responsive\": true}                    ).then(function(){\n",
       "                            \n",
       "var gd = document.getElementById('4b520a3c-53d3-496d-87dd-7760af1ae342');\n",
       "var x = new MutationObserver(function (mutations, observer) {{\n",
       "        var display = window.getComputedStyle(gd).display;\n",
       "        if (!display || display === 'none') {{\n",
       "            console.log([gd, 'removed!']);\n",
       "            Plotly.purge(gd);\n",
       "            observer.disconnect();\n",
       "        }}\n",
       "}});\n",
       "\n",
       "// Listen for the removal of the full notebook cells\n",
       "var notebookContainer = gd.closest('#notebook-container');\n",
       "if (notebookContainer) {{\n",
       "    x.observe(notebookContainer, {childList: true});\n",
       "}}\n",
       "\n",
       "// Listen for the clearing of the current output cell\n",
       "var outputEl = gd.closest('.output');\n",
       "if (outputEl) {{\n",
       "    x.observe(outputEl, {childList: true});\n",
       "}}\n",
       "\n",
       "                        })                };                });            </script>        </div>"
      ]
     },
     "metadata": {},
     "output_type": "display_data"
    }
   ],
   "source": [
    "fig_type_allocs_day.update_layout(\n",
    "    title='Hourly Time Series of Asset Type Reliability Cost Index on {}'.format(input_start_date_verbal),\n",
    "    xaxis_title='Time',\n",
    "    yaxis_title='Reliability Cost Index ($)',\n",
    "    legend_title='Asset Type',\n",
    "    font_family='sans-serif', font_color='#606060',\n",
    "    title_font_color='black',\n",
    "    legend=dict(x=1, y=1), legend_font_size=20, title_font_size=25,\n",
    "    font_size=16,\n",
    "    plot_bgcolor='#F9f9f9',\n",
    "    paper_bgcolor='white')"
   ]
  }
 ],
 "metadata": {
  "kernelspec": {
   "display_name": "dashplotlyworkshop",
   "language": "python",
   "name": "dashplotlyworkshop"
  },
  "language_info": {
   "codemirror_mode": {
    "name": "ipython",
    "version": 3
   },
   "file_extension": ".py",
   "mimetype": "text/x-python",
   "name": "python",
   "nbconvert_exporter": "python",
   "pygments_lexer": "ipython3",
   "version": "3.8.18"
  }
 },
 "nbformat": 4,
 "nbformat_minor": 5
}
